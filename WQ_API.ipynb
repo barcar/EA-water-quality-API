{
 "cells": [
  {
   "cell_type": "markdown",
   "metadata": {},
   "source": [
    "# Download and analyse the latest river water quality information by catchment\n",
    "\n",
    "### 1. Download water quality data for the area of interest\n",
    "\n",
    "First we load the packages we're going to need"
   ]
  },
  {
   "cell_type": "code",
   "execution_count": 1,
   "metadata": {},
   "outputs": [
    {
     "name": "stdout",
     "output_type": "stream",
     "text": [
      "Set-up completed\n"
     ]
    }
   ],
   "source": [
    "import geopandas as gpd\n",
    "import pandas as pd\n",
    "import io\n",
    "import requests\n",
    "import folium\n",
    "from shapely.geometry import shape\n",
    "print('Set-up completed')"
   ]
  },
  {
   "cell_type": "markdown",
   "metadata": {},
   "source": [
    "Then download the polygons and associated name and code for the River Wye management catchment from the Environment Agency Catchment Data API."
   ]
  },
  {
   "cell_type": "code",
   "execution_count": null,
   "metadata": {},
   "outputs": [],
   "source": [
    "# get list of waterbodies in Wye catchment\n",
    "wb_list_url = \"https://environment.data.gov.uk/catchment-planning/so/WaterBody.csv?inManagementCatchment=3117\"\n",
    "wb = requests.get(wb_list_url).content\n",
    "wbs = pd.read_csv(io.StringIO(wb.decode('utf-8')))\n",
    "\n",
    "# download polygons for each waterbody catchment\n",
    "for i in list(wbs['isVersionOf']):\n",
    "    poly_url = i + '/polygon'\n",
    "    print(poly_url)\n",
    "    poly = requests.get(poly_url)\n",
    "    wbs.loc[wbs['isVersionOf']==i,'geometry']= shape(poly.json())\n",
    "    \n",
    "# create geodataframe and plot catchments\n",
    "wbs_gdf = gpd.GeoDataFrame(wbs)\n",
    "wbs_gdf.plot()"
   ]
  }
 ],
 "metadata": {
  "kernelspec": {
   "display_name": "Python 3",
   "language": "python",
   "name": "python3"
  },
  "language_info": {
   "codemirror_mode": {
    "name": "ipython",
    "version": 3
   },
   "file_extension": ".py",
   "mimetype": "text/x-python",
   "name": "python",
   "nbconvert_exporter": "python",
   "pygments_lexer": "ipython3",
   "version": "3.7.6"
  }
 },
 "nbformat": 4,
 "nbformat_minor": 4
}
